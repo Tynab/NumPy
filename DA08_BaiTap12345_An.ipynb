{
 "cells": [
  {
   "cell_type": "markdown",
   "metadata": {},
   "source": [
    "# BÀI TẬP NUMPY"
   ]
  },
  {
   "cell_type": "markdown",
   "metadata": {},
   "source": [
    "## Đề Bài"
   ]
  },
  {
   "cell_type": "markdown",
   "metadata": {},
   "source": [
    "Thực hiện các yêu cầu sau với dữ liệu 'vn_housing_dataset.csv':\n",
    "1. Lấy ra thông tin từ các cột diện tích, chiều dài, chiều rộng, giá nhà.\n",
    "2. Kiểm tra các thông tin bất thường, loại bỏ nếu thấy bất hợp lý.\n",
    "3. Chuẩn hóa thông tin (ví dụ: giá nhà với đơn vị \"tỷ\" thì đổi hết sang đơn vị \"triệu\", nếu có).\n",
    "4. Lấy thêm thông tin từ cột ngày, format lại thành \"Ngày_Tháng_Năm\"\n",
    "5. Lưu lại dữ liệu đã làm sạch, chuẩn hóa, loại bỏ bất thường… vào file csv khác"
   ]
  },
  {
   "cell_type": "markdown",
   "metadata": {},
   "source": [
    "## Script"
   ]
  },
  {
   "cell_type": "markdown",
   "metadata": {},
   "source": [
    "### Using"
   ]
  },
  {
   "cell_type": "code",
   "execution_count": 1,
   "metadata": {},
   "outputs": [],
   "source": [
    "import numpy as np\n",
    "import pandas as pd"
   ]
  },
  {
   "cell_type": "markdown",
   "metadata": {},
   "source": [
    "### Contract Fields"
   ]
  },
  {
   "cell_type": "code",
   "execution_count": 2,
   "metadata": {},
   "outputs": [],
   "source": [
    "df = pd.read_csv('vn_housing_dataset.csv')"
   ]
  },
  {
   "cell_type": "code",
   "execution_count": 3,
   "metadata": {},
   "outputs": [],
   "source": [
    "mod_cols = ['Diện tích', 'Dài', 'Rộng', 'Giá/m2']"
   ]
  },
  {
   "cell_type": "markdown",
   "metadata": {},
   "source": [
    "### Contract Methods"
   ]
  },
  {
   "cell_type": "code",
   "execution_count": 4,
   "metadata": {},
   "outputs": [],
   "source": [
    "#\n",
    "def mod_split(input):\n",
    "    return input.str.strip().str.split()"
   ]
  },
  {
   "cell_type": "code",
   "execution_count": 5,
   "metadata": {},
   "outputs": [],
   "source": [
    "#\n",
    "def try_parse_num(input):\n",
    "    return pd.to_numeric(input.str[0].str.replace(',', '.'), errors='coerce')"
   ]
  },
  {
   "cell_type": "code",
   "execution_count": 6,
   "metadata": {},
   "outputs": [],
   "source": [
    "#\n",
    "def float_low(input):\n",
    "    return input.str.replace(',', '.').str.lower()"
   ]
  },
  {
   "cell_type": "code",
   "execution_count": 7,
   "metadata": {},
   "outputs": [],
   "source": [
    "#\n",
    "def round_detail(input, unit):\n",
    "    return input.str.split().str[0].astype(float).round(2).astype(str).apply(lambda val: f\"{val} {unit}\")"
   ]
  },
  {
   "cell_type": "markdown",
   "metadata": {},
   "source": [
    "### Processing"
   ]
  },
  {
   "cell_type": "code",
   "execution_count": 8,
   "metadata": {},
   "outputs": [],
   "source": [
    "df_mod = df[mod_cols]\n",
    "df_mod = df_mod.rename(columns={'Giá/m2': 'Giá'})"
   ]
  },
  {
   "cell_type": "code",
   "execution_count": 9,
   "metadata": {},
   "outputs": [],
   "source": [
    "area_mod = df_mod['Diện tích']\n",
    "length_mod = df_mod['Dài']\n",
    "width_mod = df_mod['Rộng']\n",
    "price_mod = df_mod['Giá']"
   ]
  },
  {
   "cell_type": "code",
   "execution_count": 10,
   "metadata": {},
   "outputs": [],
   "source": [
    "area_mod_split = mod_split(area_mod)\n",
    "length_mod_split = mod_split(length_mod)\n",
    "width_mod_split = mod_split(width_mod)\n",
    "price_mod_split = mod_split(price_mod)"
   ]
  },
  {
   "cell_type": "code",
   "execution_count": 11,
   "metadata": {},
   "outputs": [],
   "source": [
    "area_value = try_parse_num(area_mod_split)\n",
    "length_value = try_parse_num(length_mod_split)\n",
    "width_value = try_parse_num(width_mod_split)\n",
    "price_value = try_parse_num(price_mod_split)"
   ]
  },
  {
   "cell_type": "code",
   "execution_count": 12,
   "metadata": {},
   "outputs": [],
   "source": [
    "valid_data = (area_value.notna()\n",
    "              & length_value.notna()\n",
    "              & width_value.notna()\n",
    "              & price_value.notna()\n",
    "              & (area_value > 0)\n",
    "              & (length_value > 0)\n",
    "              & (width_value > 0)\n",
    "              & (price_value > 0)\n",
    "              & (area_mod_split.str.len() > 1)\n",
    "              & (length_mod_split.str.len() > 1)\n",
    "              & (width_mod_split.str.len() > 1)\n",
    "              & (price_mod_split.str.len() > 1))\n",
    "df_valid = df_mod.loc[valid_data]"
   ]
  },
  {
   "cell_type": "code",
   "execution_count": 13,
   "metadata": {},
   "outputs": [],
   "source": [
    "invalid_data = ~valid_data\n",
    "df_invalid = df_mod.loc[invalid_data]"
   ]
  },
  {
   "cell_type": "code",
   "execution_count": 14,
   "metadata": {},
   "outputs": [],
   "source": [
    "area_valid = df_valid['Diện tích']\n",
    "length_valid = df_valid['Dài']\n",
    "width_valid = df_valid['Rộng']\n",
    "price_valid = df_valid['Giá']"
   ]
  },
  {
   "cell_type": "code",
   "execution_count": 15,
   "metadata": {},
   "outputs": [],
   "source": [
    "area_valid = round_detail(float_low(area_valid), 'm²')\n",
    "length_valid = round_detail(float_low(length_valid), 'm')\n",
    "width_valid = round_detail(float_low(width_valid), 'm')\n",
    "price_valid = round_detail(float_low(price_valid).apply(lambda x: [str(float(x.split()[0]) * 1000) if x.split()[-1] == 'tỷ/m²' else x.split()[0], x.split()[-1]]).str.join(' '), 'triệu/m²')"
   ]
  }
 ],
 "metadata": {
  "kernelspec": {
   "display_name": "Python 3 (ipykernel)",
   "language": "python",
   "name": "python3"
  },
  "language_info": {
   "codemirror_mode": {
    "name": "ipython",
    "version": 3
   },
   "file_extension": ".py",
   "mimetype": "text/x-python",
   "name": "python",
   "nbconvert_exporter": "python",
   "pygments_lexer": "ipython3",
   "version": "3.9.13"
  }
 },
 "nbformat": 4,
 "nbformat_minor": 2
}
